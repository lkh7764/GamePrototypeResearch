{
  "nbformat": 4,
  "nbformat_minor": 0,
  "metadata": {
    "colab": {
      "provenance": [],
      "collapsed_sections": []
    },
    "kernelspec": {
      "name": "python3",
      "display_name": "Python 3"
    },
    "language_info": {
      "name": "python"
    }
  },
  "cells": [
    {
      "cell_type": "code",
      "execution_count": null,
      "metadata": {
        "id": "GyXPW4oL4Yt-"
      },
      "outputs": [],
      "source": [
        "#1\n",
        "height=int(input(\"키를 입력하시오.: \"))\n",
        "if height>=140 :\n",
        "  print(\"즐거운 시간 보내세요!\")\n",
        "else :\n",
        "  print(\"좀 더 크면 오세요!\")"
      ]
    },
    {
      "cell_type": "code",
      "source": [
        "#2\n",
        "integer=int(input(\"Enter an integer.: \"))\n",
        "if integer%2 == 0 :\n",
        "  print(f\"Your integer \\'{integer}\\' is an even number.\")\n",
        "else :\n",
        "  print(f\"Your integer \\'{integer}\\' is an odd number.\")"
      ],
      "metadata": {
        "id": "7KXieFqk5Dgx"
      },
      "execution_count": null,
      "outputs": []
    },
    {
      "cell_type": "code",
      "source": [
        "#3\n",
        "num=int(input(\"Enter an integer.: \"))\n",
        "print(f\"Factors of \\'{num}\\':\", end=\" \")\n",
        "for i in range(1, num+1) :\n",
        "  if num%i == 0 : \n",
        "    print(i, end=\" \")"
      ],
      "metadata": {
        "id": "ZlQKKisK5SuJ"
      },
      "execution_count": null,
      "outputs": []
    },
    {
      "cell_type": "code",
      "source": [
        "#4\n",
        "prompt=\"나이를 입력하시오.('q' 또는 'quit' 입력 시 프로그램 종료): \"\n",
        "active=True\n",
        "  \n",
        "while active:  \n",
        "  age=input(prompt)\n",
        "  \n",
        "  if age.isalpha():       #isalpha(): 문자열이 알파벳만으로 이루어져 있으면 true를 반환하는 메서드\n",
        "    if age=='q' or age=='quit':\n",
        "      print(\"Bye.\")\n",
        "      active=False\n",
        "    else :\n",
        "      print(\"잘못된 입력입니다. 다시 입력하세요.\")\n",
        "      continue\n",
        "  \n",
        "  elif age.isdigit():     #isdigit(): 문자열이 숫자만으로 이루어져 있으면 true를 반환하는 메서드\n",
        "    age_integer=int(age)\n",
        "    if age_integer<3: print(\"3세 미만은 무료입니다.\")\n",
        "    elif age_integer>=3 and age_integer<=12: print(f\"{age}세는 7000원 입니다.\")\n",
        "    elif age_integer>12 and age_integer<65: print(f\"{age}세는 10000원 입니다.\")\n",
        "    else: print(f\"{age_integer}세는 5000원 입니다.\")\n",
        "  \n",
        "  else :\n",
        "    print(\"잘못된 입력입니다. 다시 입력하세요.\")\n",
        "    continue"
      ],
      "metadata": {
        "id": "SVtzAgxs5b1B"
      },
      "execution_count": null,
      "outputs": []
    },
    {
      "cell_type": "code",
      "source": [
        "#5\n",
        "active=True\n",
        "while active:\n",
        "  name=input(\"Hello! What is your name? \")\n",
        "  print(f\"\\nWell, {name}. I am thinking of a number between 1 and 50.\")\n",
        "\n",
        "  import random\n",
        "  num_com=random.randint(1,50)\n",
        "\n",
        "  num_player=int(input(\"\\nTake a guess. \"))\n",
        "\n",
        "  wrong=True\n",
        "  while wrong:\n",
        "    if num_player==num_com:\n",
        "      print(f\"Good job, {name}!\")\n",
        "      wrong=False\n",
        "    elif num_player>num_com:\n",
        "      print(f\"{num_player} is too high. \")\n",
        "      num_player=int(input())\n",
        "      continue\n",
        "    else:\n",
        "      print(f\"{num_player} is too low. \")\n",
        "      num_player=int(input())\n",
        "      continue\n",
        "\n",
        "  not_cont=False\n",
        "  repeat_act=True\n",
        "  while repeat_act:\n",
        "    repeat=input(\"Would you like to continue? (yes / no) \")\n",
        "    if repeat.isalpha():\n",
        "      if repeat=='yes':\n",
        "        repeat_act=False \n",
        "      elif repeat=='no':\n",
        "        not_cont=True\n",
        "        repeat_act=False\n",
        "      else:\n",
        "        print(\"Wrong input.\")\n",
        "        continue\n",
        "    else:\n",
        "      print(\"Wrong input.\")\n",
        "      continue\n",
        "  \n",
        "  if not_cont:\n",
        "    print(\"Bye~\")\n",
        "    active=False\n",
        "  else: print(\"\\n\\n\")"
      ],
      "metadata": {
        "id": "OXsBkOOO5p3x"
      },
      "execution_count": null,
      "outputs": []
    }
  ]
}