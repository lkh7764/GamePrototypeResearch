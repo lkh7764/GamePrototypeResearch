{
  "nbformat": 4,
  "nbformat_minor": 0,
  "metadata": {
    "colab": {
      "provenance": [],
      "collapsed_sections": []
    },
    "kernelspec": {
      "name": "python3",
      "display_name": "Python 3"
    },
    "language_info": {
      "name": "python"
    }
  },
  "cells": [
    {
      "cell_type": "code",
      "execution_count": null,
      "metadata": {
        "colab": {
          "base_uri": "https://localhost:8080/"
        },
        "id": "7I0I1EbQ_kLH",
        "outputId": "75d1a22a-1c6e-4d16-c335-feaff6c38e27"
      },
      "outputs": [
        {
          "output_type": "stream",
          "name": "stdout",
          "text": [
            "Audi\n",
            "BMW\n",
            "GMC\n",
            "Hyundai\n",
            "Volkswagen\n"
          ]
        }
      ],
      "source": [
        "#1\n",
        "cars=['audi', 'bmw', 'gmc', 'hyundai', 'volkswagen']\n",
        "for car in cars:\n",
        "  if car=='bmw' or car=='gmc':\n",
        "    print(car.upper())\n",
        "  else:\n",
        "    print(car.title())"
      ]
    },
    {
      "cell_type": "code",
      "source": [
        "#2\n",
        "while True:\n",
        "  print(\"Waht is the weather today? (1:Sunny, 2: Rainy, 3: Cloudy, 4: Snowy)\")\n",
        "  choice=input()\n",
        "  if choice=='1':\n",
        "    print(\"오늘은 날씨가 좋으니까 짜장면!\")\n",
        "  elif choice=='2':\n",
        "    print(\"오늘은 비가 오니까 짬뽕!\")\n",
        "  elif choice=='3':\n",
        "    print(\"오늘은 흐리니까 볶음밥!\")\n",
        "  elif choice=='4':\n",
        "    print(\"오늘은 눈이 오니까 탕수육!\")\n",
        "  else:\n",
        "    print(\"Bye Bye~\")\n",
        "    break;"
      ],
      "metadata": {
        "colab": {
          "base_uri": "https://localhost:8080/"
        },
        "id": "mCPXsupNAkyQ",
        "outputId": "dd821504-2c0d-4da7-8f53-8c6f56045f03"
      },
      "execution_count": null,
      "outputs": [
        {
          "output_type": "stream",
          "name": "stdout",
          "text": [
            "Waht is the weather today? (1:Sunny, 2: Rainy, 3: Cloudy, 4: Snowy)\n",
            "1\n",
            "오늘은 날씨가 좋으니까 짜장면!\n",
            "Waht is the weather today? (1:Sunny, 2: Rainy, 3: Cloudy, 4: Snowy)\n",
            "a\n",
            "Bye Bye~\n"
          ]
        }
      ]
    },
    {
      "cell_type": "code",
      "source": [
        "#3\n",
        "numbers=[i for i in range(1, 11)]\n",
        "for number in numbers:\n",
        "  if number==1: ordinal=\"st\"\n",
        "  elif number==2: ordinal=\"nd\"\n",
        "  elif number==3: ordinal=\"rd\"\n",
        "  else: ordinal=\"th\"\n",
        "  print(f\"{number}{ordinal}\", end=\" \")"
      ],
      "metadata": {
        "colab": {
          "base_uri": "https://localhost:8080/"
        },
        "id": "tng8Lg9eBj0W",
        "outputId": "28d5428c-96bc-491c-e100-d9ee9e56310f"
      },
      "execution_count": null,
      "outputs": [
        {
          "output_type": "stream",
          "name": "stdout",
          "text": [
            "1st 2nd 3rd 4th 5th 6th 7th 8th 9th 10th "
          ]
        }
      ]
    },
    {
      "cell_type": "code",
      "source": [
        "#4\n",
        "for x in range(1, 10):\n",
        "  for y in range(1, 10):\n",
        "    print(x, '*', y, '=', x*y)\n",
        "    if y==9: print(\"\\n\")"
      ],
      "metadata": {
        "id": "ypUL-DXICMYF"
      },
      "execution_count": null,
      "outputs": []
    },
    {
      "cell_type": "code",
      "source": [
        "#5\n",
        "months=['January', 'Faburary', 'March', 'April', 'May', 'June', 'July', 'August', 'September', 'October', 'November', 'December']\n",
        "\n",
        "#5-1\n",
        "for month in months:\n",
        "  if 'r' in month: print(month, end=\" \")\n",
        "print(\"\\n\")\n",
        "\n",
        "#5-2\n",
        "months_abb={}\n",
        "print(months_abb)\n",
        "for month in months:\n",
        "  months_abb[month[0:3]]=month\n",
        "print(months_abb)\n",
        "print(months_abb.get('Apr'))\n",
        "print(months_abb.get('Dec'))\n",
        "\n",
        "#5-3\n",
        "months_num={}\n",
        "print(months_num)\n",
        "for num in range(1,13):\n",
        "  months_num[num]=months[num-1][0:3]\n",
        "print(months_num)\n",
        "print(months_num.get(4))\n",
        "print(months_num.get(12))"
      ],
      "metadata": {
        "colab": {
          "base_uri": "https://localhost:8080/"
        },
        "id": "zUM0O_IdDzCG",
        "outputId": "d63a99e7-2ec1-4318-e84f-3faf7a92d5e3"
      },
      "execution_count": 11,
      "outputs": [
        {
          "output_type": "stream",
          "name": "stdout",
          "text": [
            "January Faburary March April September October November December \n",
            "\n",
            "{}\n",
            "{'Jan': 'January', 'Fab': 'Faburary', 'Mar': 'March', 'Apr': 'April', 'May': 'May', 'Jun': 'June', 'Jul': 'July', 'Aug': 'August', 'Sep': 'September', 'Oct': 'October', 'Nov': 'November', 'Dec': 'December'}\n",
            "April\n",
            "December\n",
            "{}\n",
            "{1: 'Jan', 2: 'Fab', 3: 'Mar', 4: 'Apr', 5: 'May', 6: 'Jun', 7: 'Jul', 8: 'Aug', 9: 'Sep', 10: 'Oct', 11: 'Nov', 12: 'Dec'}\n",
            "Apr\n",
            "Dec\n"
          ]
        }
      ]
    }
  ]
}